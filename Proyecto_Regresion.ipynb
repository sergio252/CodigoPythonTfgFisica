{
 "cells": [
  {
   "cell_type": "code",
   "execution_count": 1,
   "metadata": {
    "collapsed": true
   },
   "outputs": [],
   "source": [
    "import numpy as np\n",
    "import matplotlib.pyplot as plt\n",
    "import pandas as pd\n",
    "import mglearn\n",
    "\n",
    "from sklearn.model_selection import train_test_split\n",
    "from sklearn.neighbors import KNeighborsClassifier"
   ]
  },
  {
   "cell_type": "code",
   "execution_count": 2,
   "metadata": {
    "collapsed": false
   },
   "outputs": [],
   "source": [
    "music=open('music.txt')"
   ]
  },
  {
   "cell_type": "code",
   "execution_count": 3,
   "metadata": {
    "collapsed": false
   },
   "outputs": [
    {
     "data": {
      "text/html": [
       "<div>\n",
       "<table border=\"1\" class=\"dataframe\">\n",
       "  <thead>\n",
       "    <tr style=\"text-align: right;\">\n",
       "      <th></th>\n",
       "      <th>Feature1</th>\n",
       "      <th>Feature2</th>\n",
       "      <th>Feature3</th>\n",
       "      <th>Feature4</th>\n",
       "      <th>Feature5</th>\n",
       "      <th>Feature6</th>\n",
       "      <th>Feature7</th>\n",
       "      <th>Feature8</th>\n",
       "      <th>Feature9</th>\n",
       "      <th>Feature10</th>\n",
       "      <th>...</th>\n",
       "      <th>Feature61</th>\n",
       "      <th>Feature62</th>\n",
       "      <th>Feature63</th>\n",
       "      <th>Feature64</th>\n",
       "      <th>Feature65</th>\n",
       "      <th>Feature66</th>\n",
       "      <th>Feature67</th>\n",
       "      <th>Feature68</th>\n",
       "      <th>Latitude</th>\n",
       "      <th>Longitude</th>\n",
       "    </tr>\n",
       "  </thead>\n",
       "  <tbody>\n",
       "    <tr>\n",
       "      <th>0</th>\n",
       "      <td>7.161286</td>\n",
       "      <td>7.835325</td>\n",
       "      <td>2.911583</td>\n",
       "      <td>0.984049</td>\n",
       "      <td>-1.499546</td>\n",
       "      <td>-2.094097</td>\n",
       "      <td>0.576000</td>\n",
       "      <td>-1.205671</td>\n",
       "      <td>1.849122</td>\n",
       "      <td>-0.425598</td>\n",
       "      <td>...</td>\n",
       "      <td>-1.504263</td>\n",
       "      <td>0.351267</td>\n",
       "      <td>-1.018726</td>\n",
       "      <td>-0.174878</td>\n",
       "      <td>-1.089543</td>\n",
       "      <td>-0.668840</td>\n",
       "      <td>-0.914772</td>\n",
       "      <td>-0.836250</td>\n",
       "      <td>-15.75</td>\n",
       "      <td>-47.95</td>\n",
       "    </tr>\n",
       "    <tr>\n",
       "      <th>1</th>\n",
       "      <td>0.225763</td>\n",
       "      <td>-0.094169</td>\n",
       "      <td>-0.603646</td>\n",
       "      <td>0.497745</td>\n",
       "      <td>0.874036</td>\n",
       "      <td>0.290280</td>\n",
       "      <td>-0.077659</td>\n",
       "      <td>-0.887385</td>\n",
       "      <td>0.432062</td>\n",
       "      <td>-0.093963</td>\n",
       "      <td>...</td>\n",
       "      <td>-0.495712</td>\n",
       "      <td>-0.465077</td>\n",
       "      <td>-0.157861</td>\n",
       "      <td>-0.157189</td>\n",
       "      <td>0.380951</td>\n",
       "      <td>1.088478</td>\n",
       "      <td>-0.123595</td>\n",
       "      <td>1.391141</td>\n",
       "      <td>14.91</td>\n",
       "      <td>-23.51</td>\n",
       "    </tr>\n",
       "    <tr>\n",
       "      <th>2</th>\n",
       "      <td>-0.692525</td>\n",
       "      <td>-0.517801</td>\n",
       "      <td>-0.788035</td>\n",
       "      <td>1.214351</td>\n",
       "      <td>-0.907214</td>\n",
       "      <td>0.880213</td>\n",
       "      <td>0.406899</td>\n",
       "      <td>-0.694895</td>\n",
       "      <td>-0.901869</td>\n",
       "      <td>-1.701574</td>\n",
       "      <td>...</td>\n",
       "      <td>-0.637167</td>\n",
       "      <td>0.147260</td>\n",
       "      <td>0.217914</td>\n",
       "      <td>2.718442</td>\n",
       "      <td>0.972919</td>\n",
       "      <td>2.081069</td>\n",
       "      <td>1.375763</td>\n",
       "      <td>1.063847</td>\n",
       "      <td>12.65</td>\n",
       "      <td>-8.00</td>\n",
       "    </tr>\n",
       "    <tr>\n",
       "      <th>3</th>\n",
       "      <td>-0.735562</td>\n",
       "      <td>-0.684055</td>\n",
       "      <td>2.058215</td>\n",
       "      <td>0.716328</td>\n",
       "      <td>-0.011393</td>\n",
       "      <td>0.805396</td>\n",
       "      <td>1.497982</td>\n",
       "      <td>0.114752</td>\n",
       "      <td>0.692847</td>\n",
       "      <td>0.052377</td>\n",
       "      <td>...</td>\n",
       "      <td>-0.178325</td>\n",
       "      <td>-0.065059</td>\n",
       "      <td>-0.724247</td>\n",
       "      <td>-1.020687</td>\n",
       "      <td>-0.751380</td>\n",
       "      <td>-0.385005</td>\n",
       "      <td>-0.012326</td>\n",
       "      <td>-0.392197</td>\n",
       "      <td>9.03</td>\n",
       "      <td>38.74</td>\n",
       "    </tr>\n",
       "    <tr>\n",
       "      <th>4</th>\n",
       "      <td>0.570272</td>\n",
       "      <td>0.273157</td>\n",
       "      <td>-0.279214</td>\n",
       "      <td>0.083456</td>\n",
       "      <td>1.049331</td>\n",
       "      <td>-0.869295</td>\n",
       "      <td>-0.265858</td>\n",
       "      <td>-0.401676</td>\n",
       "      <td>-0.872639</td>\n",
       "      <td>1.147483</td>\n",
       "      <td>...</td>\n",
       "      <td>-0.919463</td>\n",
       "      <td>-0.667912</td>\n",
       "      <td>-0.820172</td>\n",
       "      <td>-0.190488</td>\n",
       "      <td>0.306974</td>\n",
       "      <td>0.119658</td>\n",
       "      <td>0.271838</td>\n",
       "      <td>1.289783</td>\n",
       "      <td>34.03</td>\n",
       "      <td>-6.85</td>\n",
       "    </tr>\n",
       "  </tbody>\n",
       "</table>\n",
       "<p>5 rows × 70 columns</p>\n",
       "</div>"
      ],
      "text/plain": [
       "   Feature1  Feature2  Feature3  Feature4  Feature5  Feature6  Feature7  \\\n",
       "0  7.161286  7.835325  2.911583  0.984049 -1.499546 -2.094097  0.576000   \n",
       "1  0.225763 -0.094169 -0.603646  0.497745  0.874036  0.290280 -0.077659   \n",
       "2 -0.692525 -0.517801 -0.788035  1.214351 -0.907214  0.880213  0.406899   \n",
       "3 -0.735562 -0.684055  2.058215  0.716328 -0.011393  0.805396  1.497982   \n",
       "4  0.570272  0.273157 -0.279214  0.083456  1.049331 -0.869295 -0.265858   \n",
       "\n",
       "   Feature8  Feature9  Feature10    ...      Feature61  Feature62  Feature63  \\\n",
       "0 -1.205671  1.849122  -0.425598    ...      -1.504263   0.351267  -1.018726   \n",
       "1 -0.887385  0.432062  -0.093963    ...      -0.495712  -0.465077  -0.157861   \n",
       "2 -0.694895 -0.901869  -1.701574    ...      -0.637167   0.147260   0.217914   \n",
       "3  0.114752  0.692847   0.052377    ...      -0.178325  -0.065059  -0.724247   \n",
       "4 -0.401676 -0.872639   1.147483    ...      -0.919463  -0.667912  -0.820172   \n",
       "\n",
       "   Feature64  Feature65  Feature66  Feature67  Feature68  Latitude  Longitude  \n",
       "0  -0.174878  -1.089543  -0.668840  -0.914772  -0.836250    -15.75     -47.95  \n",
       "1  -0.157189   0.380951   1.088478  -0.123595   1.391141     14.91     -23.51  \n",
       "2   2.718442   0.972919   2.081069   1.375763   1.063847     12.65      -8.00  \n",
       "3  -1.020687  -0.751380  -0.385005  -0.012326  -0.392197      9.03      38.74  \n",
       "4  -0.190488   0.306974   0.119658   0.271838   1.289783     34.03      -6.85  \n",
       "\n",
       "[5 rows x 70 columns]"
      ]
     },
     "execution_count": 3,
     "metadata": {},
     "output_type": "execute_result"
    }
   ],
   "source": [
    "data=pd.read_csv('music.txt')\n",
    "data.head()"
   ]
  },
  {
   "cell_type": "code",
   "execution_count": 4,
   "metadata": {
    "collapsed": false
   },
   "outputs": [
    {
     "data": {
      "text/plain": [
       "Index(['Feature1', 'Feature2', 'Feature3', 'Feature4', 'Feature5', 'Feature6',\n",
       "       'Feature7', 'Feature8', 'Feature9', 'Feature10', 'Feature11',\n",
       "       'Feature12', 'Feature13', 'Feature14', 'Feature15', 'Feature16',\n",
       "       'Feature17', 'Feature18', 'Feature19', 'Feature20', 'Feature21',\n",
       "       'Feature22', 'Feature23', 'Feature24', 'Feature25', 'Feature26',\n",
       "       'Feature27', 'Feature28', 'Feature29', 'Feature30', 'Feature31',\n",
       "       'Feature32', 'Feature33', 'Feature34', 'Feature35', 'Feature36',\n",
       "       'Feature37', 'Feature38', 'Feature39', 'Feature40', 'Feature41',\n",
       "       'Feature42', 'Feature43', 'Feature44', 'Feature45', 'Feature46',\n",
       "       'Feature47', 'Feature48', 'Feature49', 'Feature50', 'Feature51',\n",
       "       'Feature52', 'Feature53', 'Feature54', 'Feature55', 'Feature56',\n",
       "       'Feature57', 'Feature58', 'Feature59', 'Feature60', 'Feature61',\n",
       "       'Feature62', 'Feature63', 'Feature64', 'Feature65', 'Feature66',\n",
       "       'Feature67', 'Feature68', 'Latitude', 'Longitude'],\n",
       "      dtype='object')"
      ]
     },
     "execution_count": 4,
     "metadata": {},
     "output_type": "execute_result"
    }
   ],
   "source": [
    "data.keys()"
   ]
  },
  {
   "cell_type": "code",
   "execution_count": 5,
   "metadata": {
    "collapsed": false
   },
   "outputs": [
    {
     "data": {
      "text/html": [
       "<div>\n",
       "<table border=\"1\" class=\"dataframe\">\n",
       "  <thead>\n",
       "    <tr style=\"text-align: right;\">\n",
       "      <th></th>\n",
       "      <th>Feature1</th>\n",
       "      <th>Feature2</th>\n",
       "      <th>Feature3</th>\n",
       "      <th>Feature4</th>\n",
       "      <th>Feature5</th>\n",
       "      <th>Feature6</th>\n",
       "      <th>Feature7</th>\n",
       "      <th>Feature8</th>\n",
       "      <th>Feature9</th>\n",
       "      <th>Feature10</th>\n",
       "      <th>...</th>\n",
       "      <th>Feature59</th>\n",
       "      <th>Feature60</th>\n",
       "      <th>Feature61</th>\n",
       "      <th>Feature62</th>\n",
       "      <th>Feature63</th>\n",
       "      <th>Feature64</th>\n",
       "      <th>Feature65</th>\n",
       "      <th>Feature66</th>\n",
       "      <th>Feature67</th>\n",
       "      <th>Feature68</th>\n",
       "    </tr>\n",
       "  </thead>\n",
       "  <tbody>\n",
       "    <tr>\n",
       "      <th>887</th>\n",
       "      <td>0.715344</td>\n",
       "      <td>0.591186</td>\n",
       "      <td>-0.207089</td>\n",
       "      <td>-0.817844</td>\n",
       "      <td>0.229989</td>\n",
       "      <td>-0.996994</td>\n",
       "      <td>-1.245672</td>\n",
       "      <td>-0.457993</td>\n",
       "      <td>-1.152511</td>\n",
       "      <td>0.971088</td>\n",
       "      <td>...</td>\n",
       "      <td>4.014345</td>\n",
       "      <td>2.147007</td>\n",
       "      <td>1.609416</td>\n",
       "      <td>1.948365</td>\n",
       "      <td>0.273252</td>\n",
       "      <td>1.644175</td>\n",
       "      <td>0.512046</td>\n",
       "      <td>0.240960</td>\n",
       "      <td>0.188294</td>\n",
       "      <td>0.152994</td>\n",
       "    </tr>\n",
       "    <tr>\n",
       "      <th>714</th>\n",
       "      <td>0.794907</td>\n",
       "      <td>1.083795</td>\n",
       "      <td>0.070215</td>\n",
       "      <td>0.452843</td>\n",
       "      <td>-0.622836</td>\n",
       "      <td>-1.152758</td>\n",
       "      <td>-0.395130</td>\n",
       "      <td>0.804106</td>\n",
       "      <td>-0.260289</td>\n",
       "      <td>-1.310674</td>\n",
       "      <td>...</td>\n",
       "      <td>-0.521705</td>\n",
       "      <td>-0.006955</td>\n",
       "      <td>-0.823697</td>\n",
       "      <td>0.541084</td>\n",
       "      <td>-0.511710</td>\n",
       "      <td>-0.561480</td>\n",
       "      <td>0.220023</td>\n",
       "      <td>0.049600</td>\n",
       "      <td>-0.519680</td>\n",
       "      <td>-0.350503</td>\n",
       "    </tr>\n",
       "    <tr>\n",
       "      <th>687</th>\n",
       "      <td>-0.284081</td>\n",
       "      <td>-0.332756</td>\n",
       "      <td>-0.648060</td>\n",
       "      <td>0.141208</td>\n",
       "      <td>0.245154</td>\n",
       "      <td>-0.931917</td>\n",
       "      <td>-0.443907</td>\n",
       "      <td>0.230636</td>\n",
       "      <td>-2.711048</td>\n",
       "      <td>-5.443031</td>\n",
       "      <td>...</td>\n",
       "      <td>0.337200</td>\n",
       "      <td>1.891066</td>\n",
       "      <td>1.893974</td>\n",
       "      <td>1.143779</td>\n",
       "      <td>0.417725</td>\n",
       "      <td>0.166744</td>\n",
       "      <td>0.985541</td>\n",
       "      <td>-0.021555</td>\n",
       "      <td>1.933072</td>\n",
       "      <td>-0.023650</td>\n",
       "    </tr>\n",
       "    <tr>\n",
       "      <th>695</th>\n",
       "      <td>-0.427851</td>\n",
       "      <td>-0.158867</td>\n",
       "      <td>-0.824477</td>\n",
       "      <td>-1.818973</td>\n",
       "      <td>-0.890715</td>\n",
       "      <td>1.657760</td>\n",
       "      <td>-0.649980</td>\n",
       "      <td>1.269402</td>\n",
       "      <td>1.252640</td>\n",
       "      <td>1.001137</td>\n",
       "      <td>...</td>\n",
       "      <td>-0.259412</td>\n",
       "      <td>-0.126504</td>\n",
       "      <td>0.189735</td>\n",
       "      <td>-0.450623</td>\n",
       "      <td>-0.324521</td>\n",
       "      <td>0.744030</td>\n",
       "      <td>1.807409</td>\n",
       "      <td>-0.251155</td>\n",
       "      <td>-0.003469</td>\n",
       "      <td>0.242940</td>\n",
       "    </tr>\n",
       "    <tr>\n",
       "      <th>358</th>\n",
       "      <td>-0.077072</td>\n",
       "      <td>1.524408</td>\n",
       "      <td>0.809963</td>\n",
       "      <td>0.163800</td>\n",
       "      <td>0.427993</td>\n",
       "      <td>-0.476420</td>\n",
       "      <td>-0.775336</td>\n",
       "      <td>0.414041</td>\n",
       "      <td>1.122399</td>\n",
       "      <td>-0.100885</td>\n",
       "      <td>...</td>\n",
       "      <td>-0.758675</td>\n",
       "      <td>-0.852504</td>\n",
       "      <td>-0.649550</td>\n",
       "      <td>-1.424658</td>\n",
       "      <td>-1.337661</td>\n",
       "      <td>-0.603852</td>\n",
       "      <td>-1.014936</td>\n",
       "      <td>-0.822173</td>\n",
       "      <td>-0.609119</td>\n",
       "      <td>-0.794367</td>\n",
       "    </tr>\n",
       "  </tbody>\n",
       "</table>\n",
       "<p>5 rows × 68 columns</p>\n",
       "</div>"
      ],
      "text/plain": [
       "     Feature1  Feature2  Feature3  Feature4  Feature5  Feature6  Feature7  \\\n",
       "887  0.715344  0.591186 -0.207089 -0.817844  0.229989 -0.996994 -1.245672   \n",
       "714  0.794907  1.083795  0.070215  0.452843 -0.622836 -1.152758 -0.395130   \n",
       "687 -0.284081 -0.332756 -0.648060  0.141208  0.245154 -0.931917 -0.443907   \n",
       "695 -0.427851 -0.158867 -0.824477 -1.818973 -0.890715  1.657760 -0.649980   \n",
       "358 -0.077072  1.524408  0.809963  0.163800  0.427993 -0.476420 -0.775336   \n",
       "\n",
       "     Feature8  Feature9  Feature10    ...      Feature59  Feature60  \\\n",
       "887 -0.457993 -1.152511   0.971088    ...       4.014345   2.147007   \n",
       "714  0.804106 -0.260289  -1.310674    ...      -0.521705  -0.006955   \n",
       "687  0.230636 -2.711048  -5.443031    ...       0.337200   1.891066   \n",
       "695  1.269402  1.252640   1.001137    ...      -0.259412  -0.126504   \n",
       "358  0.414041  1.122399  -0.100885    ...      -0.758675  -0.852504   \n",
       "\n",
       "     Feature61  Feature62  Feature63  Feature64  Feature65  Feature66  \\\n",
       "887   1.609416   1.948365   0.273252   1.644175   0.512046   0.240960   \n",
       "714  -0.823697   0.541084  -0.511710  -0.561480   0.220023   0.049600   \n",
       "687   1.893974   1.143779   0.417725   0.166744   0.985541  -0.021555   \n",
       "695   0.189735  -0.450623  -0.324521   0.744030   1.807409  -0.251155   \n",
       "358  -0.649550  -1.424658  -1.337661  -0.603852  -1.014936  -0.822173   \n",
       "\n",
       "     Feature67  Feature68  \n",
       "887   0.188294   0.152994  \n",
       "714  -0.519680  -0.350503  \n",
       "687   1.933072  -0.023650  \n",
       "695  -0.003469   0.242940  \n",
       "358  -0.609119  -0.794367  \n",
       "\n",
       "[5 rows x 68 columns]"
      ]
     },
     "execution_count": 5,
     "metadata": {},
     "output_type": "execute_result"
    }
   ],
   "source": [
    "X_train, X_test, y_train, y_test = train_test_split(data[data.columns[0:68]], data[['Latitude', 'Longitude']],\n",
    "                                                   random_state=4)\n",
    "X_train.head()"
   ]
  },
  {
   "cell_type": "code",
   "execution_count": 6,
   "metadata": {
    "collapsed": true
   },
   "outputs": [],
   "source": [
    "###K-Regression"
   ]
  },
  {
   "cell_type": "code",
   "execution_count": 7,
   "metadata": {
    "collapsed": false
   },
   "outputs": [
    {
     "name": "stdout",
     "output_type": "stream",
     "text": [
      "Test set predictions:\n",
      "[[  2.59700000e+01   7.42266667e+01]\n",
      " [  2.49900000e+01   1.29700000e+01]\n",
      " [  3.92733333e+01   2.97900000e+01]\n",
      " [  2.03233333e+01   1.59166667e+01]\n",
      " [  3.55466667e+01   2.24166667e+01]\n",
      " [  3.59800000e+01   4.02366667e+01]\n",
      " [  3.91333333e+00   2.03166667e+01]\n",
      " [  1.84333333e+01   1.06233333e+01]\n",
      " [  3.17100000e+01   3.56300000e+01]\n",
      " [  3.55066667e+01   4.45800000e+01]\n",
      " [  3.99100000e+01   3.28300000e+01]\n",
      " [  2.80333333e+00  -2.10233333e+01]\n",
      " [  3.70666667e+01   4.44166667e+01]\n",
      " [  1.13933333e+01   2.56033333e+01]\n",
      " [  3.19800000e+01  -1.46000000e+00]\n",
      " [ -1.09200000e+01  -1.97000000e+01]\n",
      " [  3.29766667e+01   6.63933333e+01]\n",
      " [  3.33233333e+01   6.00066667e+01]\n",
      " [ -1.26000000e+00   3.68000000e+01]\n",
      " [  3.23333333e-01  -2.93166667e+01]\n",
      " [  1.62033333e+01  -5.38666667e+01]\n",
      " [  3.32566667e+01   1.65533333e+01]\n",
      " [  4.54966667e+01   2.35400000e+01]\n",
      " [  4.19000000e+01   1.24800000e+01]\n",
      " [  8.52000000e+00   1.98066667e+01]\n",
      " [  5.25000000e+01  -1.20000000e-01]\n",
      " [  3.17233333e+01   4.34733333e+01]\n",
      " [  3.54033333e+01   7.64633333e+01]\n",
      " [  3.86766667e+01   1.55733333e+01]\n",
      " [  4.04333333e+01   7.36366667e+01]\n",
      " [  1.82966667e+01   9.06000000e+00]\n",
      " [  1.48233333e+01   2.62500000e+01]\n",
      " [  2.19533333e+01   4.12266667e+01]\n",
      " [  3.38766667e+01   6.01666667e+01]\n",
      " [  3.38766667e+01   6.01666667e+01]\n",
      " [  3.15766667e+01   1.40500000e+01]\n",
      " [  3.77633333e+01   2.86900000e+01]\n",
      " [  3.31133333e+01   2.45200000e+01]\n",
      " [  1.70166667e+01   6.33800000e+01]\n",
      " [  1.31266667e+01   2.86933333e+01]\n",
      " [  2.73000000e+01   3.94966667e+01]\n",
      " [  2.86100000e+01   7.72000000e+01]\n",
      " [  2.59533333e+01  -4.70400000e+01]\n",
      " [  3.79500000e+01   1.96033333e+01]\n",
      " [  3.70433333e+01   7.18733333e+01]\n",
      " [  3.99100000e+01   3.28300000e+01]\n",
      " [  1.97500000e+01   9.61000000e+01]\n",
      " [  5.25000000e+01  -1.20000000e-01]\n",
      " [  2.21866667e+01   1.77366667e+01]\n",
      " [  3.97400000e+01   4.72100000e+01]\n",
      " [  1.62033333e+01  -5.38666667e+01]\n",
      " [  5.46800000e+01   2.53100000e+01]\n",
      " [  1.79800000e+01  -7.68000000e+01]\n",
      " [  3.30400000e+01   5.56266667e+01]\n",
      " [  3.02933333e+01   7.58533333e+01]\n",
      " [  4.15566667e+01   6.78200000e+01]\n",
      " [  3.59900000e+01   6.37666667e+00]\n",
      " [  2.96800000e+01   5.42800000e+01]\n",
      " [  4.96933333e+01   1.25566667e+01]\n",
      " [  1.90900000e+01   5.13900000e+01]\n",
      " [  3.77300000e+01   3.76333333e+01]\n",
      " [  1.24633333e+01   3.54766667e+01]\n",
      " [  3.46733333e+01   4.98433333e+01]\n",
      " [  4.08100000e+01   5.70833333e+01]\n",
      " [  2.17566667e+01   1.16766667e+01]\n",
      " [  2.28700000e+01  -3.43200000e+01]\n",
      " [  3.82633333e+01   3.94300000e+01]\n",
      " [  2.86100000e+01   7.72000000e+01]\n",
      " [  2.98366667e+01   5.91100000e+01]\n",
      " [  3.11900000e+01   5.53800000e+01]\n",
      " [  2.37600000e+01   1.21000000e+02]\n",
      " [  3.61700000e+01   3.77966667e+01]\n",
      " [  9.43666667e+00  -1.37333333e+00]\n",
      " [  1.21700000e+01   1.96500000e+01]\n",
      " [  1.61766667e+01   7.69800000e+01]\n",
      " [  1.72500000e+01  -8.87600000e+01]\n",
      " [  3.58666667e+01   3.30466667e+01]\n",
      " [ -7.00000000e-02   1.08383333e+02]\n",
      " [  1.33200000e+01  -1.11366667e+01]\n",
      " [  1.26500000e+01  -8.00000000e+00]\n",
      " [  2.37600000e+01   1.21000000e+02]\n",
      " [ -1.26000000e+00   3.68000000e+01]\n",
      " [  4.08100000e+01   5.70833333e+01]\n",
      " [  3.92733333e+01   2.97900000e+01]\n",
      " [  3.15833333e+01   6.26466667e+01]\n",
      " [  3.09400000e+01   1.10100000e+01]\n",
      " [  3.23766667e+01   6.24100000e+01]\n",
      " [  3.23233333e+01   4.48266667e+01]\n",
      " [  2.74633333e+01   5.54833333e+01]\n",
      " [  2.07200000e+01   2.86333333e+00]\n",
      " [  1.03333333e-01   2.11600000e+01]\n",
      " [  4.08566667e+01   2.41433333e+01]\n",
      " [  3.78600000e+01   3.85933333e+01]\n",
      " [  1.34033333e+01  -1.31700000e+01]\n",
      " [  3.99100000e+01   3.28300000e+01]\n",
      " [  1.15666667e+01  -3.89333333e+01]\n",
      " [  2.86100000e+01   7.72000000e+01]\n",
      " [  1.12766667e+01   4.72500000e+01]\n",
      " [  2.19533333e+01   4.12266667e+01]\n",
      " [  2.67400000e+01   1.89666667e+01]\n",
      " [ -8.85333333e+00   5.37833333e+01]\n",
      " [  4.17100000e+01   4.47800000e+01]\n",
      " [  2.37600000e+01   1.21000000e+02]\n",
      " [  4.14733333e+01   5.03000000e+01]\n",
      " [  5.33333333e-01   3.70933333e+01]\n",
      " [  1.87233333e+01   1.52300000e+01]\n",
      " [  4.12600000e+01   6.92100000e+01]\n",
      " [  2.97433333e+01   9.55933333e+01]\n",
      " [  3.34500000e+01   5.10633333e+01]\n",
      " [  3.93000000e+01   1.99666667e+01]\n",
      " [  2.41033333e+01   4.75966667e+01]\n",
      " [  2.09500000e+01  -1.07533333e+01]\n",
      " [  3.02033333e+01   2.14733333e+01]\n",
      " [  5.46800000e+01   2.53100000e+01]\n",
      " [  3.19766667e+01   7.45066667e+01]\n",
      " [  4.06966667e+01   5.60000000e-01]\n",
      " [  1.26500000e+01  -8.00000000e+00]\n",
      " [  1.24500000e+01   2.98100000e+01]\n",
      " [  2.35900000e+01   1.78866667e+01]\n",
      " [  1.74366667e+01  -2.05500000e+01]\n",
      " [  1.92866667e+01   5.66900000e+01]\n",
      " [  1.26500000e+01  -8.00000000e+00]\n",
      " [  2.32366667e+01   3.36666667e+00]\n",
      " [  3.55066667e+01   4.45800000e+01]\n",
      " [  1.17366667e+01   7.96000000e+01]\n",
      " [  2.13500000e+01   3.90700000e+01]\n",
      " [  2.70266667e+01   3.92633333e+01]\n",
      " [  3.99100000e+01   3.28300000e+01]\n",
      " [  1.61766667e+01   7.69800000e+01]\n",
      " [  1.63033333e+01   5.20066667e+01]\n",
      " [  4.01733333e+01   5.40433333e+01]\n",
      " [  5.25000000e+01  -1.20000000e-01]\n",
      " [  1.18266667e+01   3.24366667e+01]\n",
      " [  4.03600000e+01   4.49566667e+01]\n",
      " [  4.04100000e+01   1.86633333e+01]\n",
      " [  3.65533333e+01   4.01933333e+01]\n",
      " [  4.17100000e+01   4.47800000e+01]\n",
      " [  1.80633333e+01   5.36333333e+00]\n",
      " [ -3.53000000e+01   1.49120000e+02]\n",
      " [  3.19766667e+01   7.45066667e+01]\n",
      " [  3.19766667e+01   7.45066667e+01]\n",
      " [  2.70500000e+01   2.88700000e+01]\n",
      " [  3.23566667e+01   1.08000000e+01]\n",
      " [  1.72366667e+01   2.06500000e+01]\n",
      " [  4.69000000e+00  -3.16566667e+01]\n",
      " [  3.24166667e+01   2.38666667e+01]\n",
      " [  1.15233333e+01   9.85100000e+01]\n",
      " [  3.75633333e+01   2.36033333e+01]\n",
      " [  3.97233333e+01   4.19166667e+01]\n",
      " [  1.93300000e+01   7.63400000e+01]\n",
      " [  4.17100000e+01   1.49200000e+01]\n",
      " [  4.23500000e+01   5.63333333e+01]\n",
      " [  2.86100000e+01   7.72000000e+01]\n",
      " [  1.98700000e+01   2.96400000e+01]\n",
      " [  1.97500000e+01   9.61000000e+01]\n",
      " [  2.79333333e+01   6.69633333e+01]\n",
      " [  1.26500000e+01  -8.00000000e+00]\n",
      " [  2.90833333e+01   6.18700000e+01]\n",
      " [  2.09933333e+01   1.27800000e+01]\n",
      " [  2.39600000e+01   4.56633333e+01]\n",
      " [  2.19533333e+01   4.12266667e+01]\n",
      " [  3.27666667e+00  -2.53666667e+01]\n",
      " [  4.28600000e+01   7.46000000e+01]\n",
      " [  4.45366667e+01   2.56533333e+01]\n",
      " [  2.38800000e+01   6.98133333e+01]\n",
      " [  3.06366667e+01   2.83066667e+01]\n",
      " [  4.17100000e+01   4.47800000e+01]\n",
      " [  3.99100000e+01   3.28300000e+01]\n",
      " [  3.53966667e+01   4.70300000e+01]\n",
      " [  2.65333333e+01   4.50366667e+01]\n",
      " [  3.57900000e+01   5.94200000e+01]\n",
      " [  1.15500000e+01   1.04910000e+02]\n",
      " [  1.97500000e+01   9.61000000e+01]\n",
      " [  3.95033333e+01   4.40233333e+01]\n",
      " [  3.12966667e+01   4.27266667e+01]\n",
      " [  1.64633333e+01   1.75033333e+01]\n",
      " [  3.36600000e+01   7.31600000e+01]\n",
      " [  3.06366667e+01   2.83066667e+01]\n",
      " [ -6.17000000e+00   3.57400000e+01]\n",
      " [  3.54700000e+01   1.59233333e+01]\n",
      " [  4.17100000e+01   4.47800000e+01]\n",
      " [  1.88000000e+00  -1.77333333e+00]\n",
      " [  2.71300000e+01   5.67000000e+00]\n",
      " [  2.54133333e+01   5.22100000e+01]\n",
      " [  1.06900000e+01   3.25266667e+01]\n",
      " [  5.46800000e+01   2.53100000e+01]\n",
      " [  1.83266667e+01  -1.71966667e+01]\n",
      " [  2.49133333e+01   2.80733333e+01]\n",
      " [  3.40033333e+01   2.78733333e+01]\n",
      " [  5.46800000e+01   2.53100000e+01]\n",
      " [  1.68800000e+01   3.19300000e+01]\n",
      " [  8.55333333e+00   3.17300000e+01]\n",
      " [  3.34500000e+01   5.10633333e+01]\n",
      " [ -1.39966667e+01   1.25146667e+02]\n",
      " [  1.62033333e+01  -5.38666667e+01]\n",
      " [  3.92733333e+01   2.97900000e+01]\n",
      " [  3.35133333e+01   4.02966667e+01]\n",
      " [  1.79800000e+01  -7.68000000e+01]\n",
      " [  2.19533333e+01   4.12266667e+01]\n",
      " [  1.75900000e+01   2.06933333e+01]\n",
      " [  3.93266667e+01   4.40300000e+01]\n",
      " [  3.88766667e+01   6.23833333e+01]\n",
      " [  3.14866667e+01   1.24366667e+01]\n",
      " [  2.49133333e+01   2.80733333e+01]\n",
      " [  3.47233333e+01   5.42800000e+01]\n",
      " [  1.82533333e+01   2.68966667e+01]\n",
      " [  3.36600000e+01   7.31600000e+01]\n",
      " [  2.28933333e+01   3.36133333e+01]\n",
      " [  4.11733333e+01   3.00300000e+01]\n",
      " [  3.88733333e+01   2.73866667e+01]\n",
      " [  3.99100000e+01   3.28300000e+01]\n",
      " [  5.71333333e+00  -4.94200000e+01]\n",
      " [  2.55533333e+01  -5.08000000e+00]\n",
      " [  3.17066667e+01   5.73366667e+01]\n",
      " [  2.65000000e+01   6.73766667e+01]\n",
      " [  2.22566667e+01   3.01566667e+01]\n",
      " [  3.97400000e+01   4.72100000e+01]\n",
      " [  2.36566667e+01   8.49600000e+01]\n",
      " [  1.45600000e+01   1.48333333e+01]\n",
      " [  4.28600000e+01   7.46000000e+01]\n",
      " [  2.73000000e+01   3.94966667e+01]\n",
      " [  3.92733333e+01   2.97900000e+01]\n",
      " [  2.89233333e+01   6.79266667e+01]\n",
      " [  2.97566667e+01   7.87333333e+00]\n",
      " [  2.41766667e+01  -2.41066667e+01]\n",
      " [  1.69933333e+01  -4.51000000e+00]\n",
      " [  2.10666667e+00   5.76733333e+01]\n",
      " [  2.34700000e+01   8.36333333e+00]\n",
      " [  1.91300000e+01   7.06800000e+01]\n",
      " [  3.40600000e+01   6.10633333e+01]\n",
      " [  4.71666667e+00  -4.82366667e+01]\n",
      " [  2.45500000e+01   5.74933333e+01]\n",
      " [  3.99100000e+01   3.28300000e+01]\n",
      " [  3.92733333e+01   2.97900000e+01]\n",
      " [  2.44833333e+01  -1.49533333e+01]\n",
      " [  2.60500000e+01   3.15566667e+01]\n",
      " [  2.68500000e+01   2.73700000e+01]\n",
      " [  1.51100000e+01   1.24000000e+01]\n",
      " [  1.79800000e+01  -7.68000000e+01]\n",
      " [  2.66300000e+01  -6.13666667e+00]\n",
      " [  9.64000000e+00   7.05900000e+01]\n",
      " [  7.13000000e+00   1.41000000e+00]\n",
      " [  1.51800000e+01  -3.61033333e+01]\n",
      " [  1.67933333e+01   1.10533333e+01]\n",
      " [  3.22400000e+01   7.26666667e+00]\n",
      " [  1.34033333e+01  -1.31700000e+01]\n",
      " [  2.98633333e+01   3.75400000e+01]\n",
      " [  3.02800000e+01  -5.96000000e+00]\n",
      " [  3.40033333e+01   2.78733333e+01]\n",
      " [  8.74333333e+00   6.49733333e+01]\n",
      " [ -1.26000000e+00   3.68000000e+01]\n",
      " [  3.12966667e+01   4.27266667e+01]\n",
      " [  3.76400000e+01   5.53600000e+01]\n",
      " [  2.38900000e+01   3.63633333e+01]\n",
      " [  3.01666667e+01   2.02433333e+01]\n",
      " [  2.07366667e+01   8.15666667e+00]\n",
      " [  3.99100000e+01   3.28300000e+01]\n",
      " [  2.77200000e+01   2.72266667e+01]\n",
      " [  3.52133333e+01   7.89033333e+01]\n",
      " [  2.32766667e+01   2.77200000e+01]\n",
      " [  2.07366667e+01   8.15666667e+00]\n",
      " [  8.87000000e+00   4.32433333e+01]\n",
      " [  5.07400000e+01   4.17400000e+01]\n",
      " [  2.21733333e+01  -1.46033333e+01]\n",
      " [  1.88000000e+00  -1.77333333e+00]]\n"
     ]
    }
   ],
   "source": [
    "from sklearn.neighbors import KNeighborsRegressor\n",
    "reg = KNeighborsRegressor(n_neighbors=3)\n",
    "# fit the model using the training data and training targets:\n",
    "reg.fit(X_train, y_train)\n",
    "print(\"Test set predictions:\\n{}\".format(reg.predict(X_test)))"
   ]
  },
  {
   "cell_type": "code",
   "execution_count": 8,
   "metadata": {
    "collapsed": false
   },
   "outputs": [
    {
     "name": "stdout",
     "output_type": "stream",
     "text": [
      "Test set predictions:\n",
      "[[ 25.97        74.22666667]\n",
      " [ 24.99        12.97      ]\n",
      " [ 39.27333333  29.79      ]\n",
      " [ 20.32333333  15.91666667]\n",
      " [ 35.54666667  22.41666667]]\n"
     ]
    }
   ],
   "source": [
    "z=X_test.T\n",
    "zt=(z[z.columns[0:5]])\n",
    "print(\"Test set predictions:\\n{}\".format(reg.predict(zt.T)))\n",
    "#print(\"Test set predictions:\\n{}\".format(reg.predict(X_test.head())))"
   ]
  },
  {
   "cell_type": "code",
   "execution_count": 9,
   "metadata": {
    "collapsed": false
   },
   "outputs": [
    {
     "data": {
      "text/html": [
       "<div>\n",
       "<table border=\"1\" class=\"dataframe\">\n",
       "  <thead>\n",
       "    <tr style=\"text-align: right;\">\n",
       "      <th></th>\n",
       "      <th>Latitude</th>\n",
       "      <th>Longitude</th>\n",
       "    </tr>\n",
       "  </thead>\n",
       "  <tbody>\n",
       "    <tr>\n",
       "      <th>164</th>\n",
       "      <td>41.26</td>\n",
       "      <td>69.21</td>\n",
       "    </tr>\n",
       "    <tr>\n",
       "      <th>63</th>\n",
       "      <td>36.70</td>\n",
       "      <td>3.21</td>\n",
       "    </tr>\n",
       "    <tr>\n",
       "      <th>728</th>\n",
       "      <td>39.91</td>\n",
       "      <td>32.83</td>\n",
       "    </tr>\n",
       "    <tr>\n",
       "      <th>955</th>\n",
       "      <td>52.50</td>\n",
       "      <td>-0.12</td>\n",
       "    </tr>\n",
       "    <tr>\n",
       "      <th>405</th>\n",
       "      <td>41.26</td>\n",
       "      <td>69.21</td>\n",
       "    </tr>\n",
       "  </tbody>\n",
       "</table>\n",
       "</div>"
      ],
      "text/plain": [
       "     Latitude  Longitude\n",
       "164     41.26      69.21\n",
       "63      36.70       3.21\n",
       "728     39.91      32.83\n",
       "955     52.50      -0.12\n",
       "405     41.26      69.21"
      ]
     },
     "execution_count": 9,
     "metadata": {},
     "output_type": "execute_result"
    }
   ],
   "source": [
    "y_test.head()"
   ]
  },
  {
   "cell_type": "code",
   "execution_count": 10,
   "metadata": {
    "collapsed": false
   },
   "outputs": [
    {
     "name": "stdout",
     "output_type": "stream",
     "text": [
      "Test set R^2: 0.19\n"
     ]
    }
   ],
   "source": [
    "print(\"Test set R^2: {:.2f}\".format(reg.score(X_test, y_test)))"
   ]
  },
  {
   "cell_type": "code",
   "execution_count": 11,
   "metadata": {
    "collapsed": false
   },
   "outputs": [
    {
     "data": {
      "image/png": "[encoded data removed]",
      "text/plain": [
       "<matplotlib.figure.Figure at 0x7f5911f42588>"
      ]
     },
     "metadata": {},
     "output_type": "display_data"
    }
   ],
   "source": [
    "X_train, X_test, y_train, y_test = train_test_split(data[data.columns[0:68]], data[['Latitude', 'Longitude']],\n",
    "                                                   random_state=4)\n",
    "k_range = range(1,40)\n",
    "scores = []\n",
    "scores1=[]\n",
    "\n",
    "for k in k_range:\n",
    "    reg = KNeighborsRegressor(n_neighbors=k)\n",
    "    reg.fit(X_train, y_train)\n",
    "    scores.append(reg.score(X_test, y_test))\n",
    "    scores1.append(reg.score(X_train, y_train))\n",
    "\n",
    "\n",
    "plt.figure()\n",
    "plt.xlabel('k')\n",
    "plt.ylabel('$R^2$')\n",
    "plt.scatter(k_range, scores)\n",
    "plt.scatter(k_range, scores1)\n",
    "plt.legend([\"test accuracy\", \"train accuracy\"])\n",
    "\n",
    "plt.xticks([0,5,10,15,20,25,30,35,40])\n",
    "plt.show()"
   ]
  },
  {
   "cell_type": "code",
   "execution_count": 12,
   "metadata": {
    "collapsed": false
   },
   "outputs": [
    {
     "data": {
      "text/plain": [
       "[-0.001359185289749985,\n",
       " 0.14593004616598454,\n",
       " 0.18605454445666844,\n",
       " 0.26624877877696335,\n",
       " 0.28776446827174312,\n",
       " 0.28742077908948016,\n",
       " 0.26625527636944368,\n",
       " 0.27783399389606545,\n",
       " 0.28838381429769216,\n",
       " 0.28088465138650065,\n",
       " 0.29714250024356387,\n",
       " 0.28644349735334268,\n",
       " 0.29256022015629229,\n",
       " 0.29153888440721032,\n",
       " 0.28335880737384062,\n",
       " 0.27666191059438211,\n",
       " 0.27250906569521804,\n",
       " 0.26317634875080004,\n",
       " 0.26173854282721348,\n",
       " 0.25474860725559373,\n",
       " 0.25152892718107978,\n",
       " 0.25333739173021713,\n",
       " 0.25343239665619904,\n",
       " 0.25667069254513286,\n",
       " 0.25095269096098399,\n",
       " 0.25157808678566046,\n",
       " 0.24379300482758398,\n",
       " 0.23795284908656605,\n",
       " 0.23247371003181658,\n",
       " 0.22583396388516555,\n",
       " 0.22272317206392406,\n",
       " 0.22118933056646603,\n",
       " 0.21491927366709659,\n",
       " 0.21121270514029838,\n",
       " 0.20966503608203343,\n",
       " 0.20761751364658737,\n",
       " 0.20653463603868441,\n",
       " 0.20277906238063972,\n",
       " 0.20257025336159196]"
      ]
     },
     "execution_count": 12,
     "metadata": {},
     "output_type": "execute_result"
    }
   ],
   "source": [
    "scores"
   ]
  },
  {
   "cell_type": "code",
   "execution_count": 13,
   "metadata": {
    "collapsed": true
   },
   "outputs": [],
   "source": [
    "###Linear models"
   ]
  },
  {
   "cell_type": "code",
   "execution_count": 14,
   "metadata": {
    "collapsed": true
   },
   "outputs": [],
   "source": [
    "#Regresión Lineal por mínimos cuadrados"
   ]
  },
  {
   "cell_type": "code",
   "execution_count": 15,
   "metadata": {
    "collapsed": false
   },
   "outputs": [
    {
     "name": "stdout",
     "output_type": "stream",
     "text": [
      "Training set score: 0.33\n",
      "Test set score: 0.25\n"
     ]
    }
   ],
   "source": [
    "from sklearn.linear_model import LinearRegression\n",
    "\n",
    "X_train, X_test, y_train, y_test = train_test_split(data[data.columns[0:68]], data[['Latitude', 'Longitude']],random_state=35)\n",
    "\n",
    "lr = LinearRegression().fit(X_train, y_train)\n",
    "print(\"Training set score: {:.2f}\".format(lr.score(X_train, y_train)))\n",
    "print(\"Test set score: {:.2f}\".format(lr.score(X_test, y_test)))"
   ]
  },
  {
   "cell_type": "code",
   "execution_count": 16,
   "metadata": {
    "collapsed": false
   },
   "outputs": [
    {
     "name": "stdout",
     "output_type": "stream",
     "text": [
      "lr.coef_: [[  1.03023419e+01  -9.88860849e+00  -1.98587776e-01  -5.00408287e+00\n",
      "   -2.38908408e-01  -2.28935012e-01  -8.84967834e-01  -6.67991746e-01\n",
      "   -1.26300415e+00   2.19837420e-01  -1.72076649e-01   3.40322410e-01\n",
      "    6.59206982e-01  -8.74426686e-02   6.61587525e-01  -2.16771055e+00\n",
      "    5.66288196e-01  -1.14890107e+01   1.13665198e+01  -3.65248865e+00\n",
      "    2.93556544e+00  -5.61113041e-01   1.99789532e+00  -7.15794118e-01\n",
      "    4.52134871e+00  -4.08660495e+00  -2.09892661e+00  -2.99221329e+00\n",
      "   -4.17887679e-01  -2.15790223e+00   1.26797724e+00   4.95110772e-01\n",
      "    3.25820642e+00  -1.16275193e-01  -2.02588211e+00   1.24910519e+00\n",
      "    3.43510720e+00   1.61442236e-01  -1.29654375e+00  -6.05999065e-01\n",
      "    2.43024975e-01  -2.05691844e-01  -8.42986420e-01   6.08131950e-02\n",
      "   -5.46352799e-01   1.36284086e+00   6.88096523e-01  -7.63176339e-01\n",
      "   -1.19652003e+00   1.84396940e+00   5.11612691e-01   1.13755895e+00\n",
      "   -7.56400400e-01  -3.13219006e+00  -3.61370930e+00  -2.58705251e+00\n",
      "    2.03569142e+00  -1.23938368e+00  -3.10664154e+00   3.31963340e+00\n",
      "    5.53638025e-01   1.73709448e+00   8.40476295e-01   3.69048924e-01\n",
      "    5.17441347e-01  -1.23577358e+00  -2.26437849e+00  -2.64663095e+00]\n",
      " [ -1.90123860e+01  -3.44541227e+00   1.11931963e+01  -1.29286526e+01\n",
      "   -1.82731892e+01  -7.53507216e+00  -7.64190866e-01  -6.29253996e+00\n",
      "   -5.13950356e+00   3.01057812e+00  -3.84678802e+00  -3.28639649e-01\n",
      "    2.61700459e+00  -9.31460797e-01  -3.70553217e+00  -7.98593099e-02\n",
      "   -1.83991292e+00   1.57918482e+01  -2.72778216e+00  -1.52784303e+01\n",
      "    1.42713404e+01  -1.52402707e+01  -1.31922565e+00  -8.46205936e-01\n",
      "   -3.48899529e+00  -1.75999536e+00   9.23888423e+00  -3.59660236e+00\n",
      "   -7.68311489e-01   3.72111835e+00  -3.82528604e+00   7.58089883e+00\n",
      "   -1.03295849e+00   2.36435317e+00   7.85924918e+00   4.72117432e+00\n",
      "   -5.65246736e+00   3.55783641e+00   4.02133116e+00   1.03559318e-01\n",
      "   -2.06494653e+00   3.54840426e+00   4.44185809e-01   1.05982221e+00\n",
      "   -4.79892541e-01   4.63870770e-01  -1.59322154e+00  -1.05184047e-02\n",
      "   -1.92328854e+00  -1.28100182e+00  -1.17097405e+00  -1.28730482e+01\n",
      "   -5.82479704e-01  -2.40944320e+00   1.89789609e+00   4.21338329e+00\n",
      "    3.94118694e+00   1.06778672e+01  -5.65234778e+00   7.46296652e+00\n",
      "   -8.94099838e+00   3.18940859e+00  -3.78937346e+00  -2.46857681e+00\n",
      "    3.37921699e+00  -2.14212142e-01   4.70483522e-01  -1.76169084e+00]]\n",
      "lr.intercept_: [ 26.65839034  37.79168616]\n"
     ]
    }
   ],
   "source": [
    "print(\"lr.coef_: {}\".format(lr.coef_)) #los almacena así lr.coef_ y lr.intercept_)\n",
    "print(\"lr.intercept_: {}\".format(lr.intercept_))"
   ]
  },
  {
   "cell_type": "code",
   "execution_count": 17,
   "metadata": {
    "collapsed": true
   },
   "outputs": [],
   "source": [
    "#Ridge"
   ]
  },
  {
   "cell_type": "code",
   "execution_count": 18,
   "metadata": {
    "collapsed": false
   },
   "outputs": [
    {
     "name": "stdout",
     "output_type": "stream",
     "text": [
      "R-squared score (training): 0.331\n",
      "R-squared score (test): 0.253\n",
      "Number of non-zero features: 130\n",
      "R-squared score (training): 0.331\n",
      "R-squared score (test): 0.260\n",
      "Number of non-zero features: 127\n",
      "R-squared score (training): 0.330\n",
      "R-squared score (test): 0.263\n",
      "Number of non-zero features: 128\n",
      "R-squared score (training): 0.329\n",
      "R-squared score (test): 0.266\n",
      "Number of non-zero features: 129\n",
      "R-squared score (training): 0.328\n",
      "R-squared score (test): 0.268\n",
      "Number of non-zero features: 128\n",
      "R-squared score (training): 0.326\n",
      "R-squared score (test): 0.270\n",
      "Number of non-zero features: 127\n",
      "R-squared score (training): 0.325\n",
      "R-squared score (test): 0.271\n",
      "Number of non-zero features: 127\n",
      "R-squared score (training): 0.324\n",
      "R-squared score (test): 0.272\n",
      "Number of non-zero features: 126\n",
      "R-squared score (training): 0.322\n",
      "R-squared score (test): 0.272\n",
      "Number of non-zero features: 125\n",
      "R-squared score (training): 0.321\n",
      "R-squared score (test): 0.273\n",
      "Number of non-zero features: 124\n",
      "R-squared score (training): 0.320\n",
      "R-squared score (test): 0.273\n",
      "Number of non-zero features: 124\n",
      "R-squared score (training): 0.318\n",
      "R-squared score (test): 0.273\n",
      "Number of non-zero features: 124\n",
      "R-squared score (training): 0.317\n",
      "R-squared score (test): 0.273\n",
      "Number of non-zero features: 124\n",
      "R-squared score (training): 0.316\n",
      "R-squared score (test): 0.273\n",
      "Number of non-zero features: 124\n",
      "R-squared score (training): 0.315\n",
      "R-squared score (test): 0.273\n",
      "Number of non-zero features: 123\n",
      "R-squared score (training): 0.313\n",
      "R-squared score (test): 0.273\n",
      "Number of non-zero features: 123\n",
      "R-squared score (training): 0.312\n",
      "R-squared score (test): 0.273\n",
      "Number of non-zero features: 123\n",
      "R-squared score (training): 0.311\n",
      "R-squared score (test): 0.272\n",
      "Number of non-zero features: 122\n",
      "R-squared score (training): 0.310\n",
      "R-squared score (test): 0.272\n",
      "Number of non-zero features: 122\n",
      "R-squared score (training): 0.308\n",
      "R-squared score (test): 0.272\n",
      "Number of non-zero features: 122\n",
      "R-squared score (training): 0.307\n",
      "R-squared score (test): 0.271\n",
      "Number of non-zero features: 122\n",
      "R-squared score (training): 0.306\n",
      "R-squared score (test): 0.271\n",
      "Number of non-zero features: 125\n",
      "R-squared score (training): 0.305\n",
      "R-squared score (test): 0.271\n",
      "Number of non-zero features: 125\n",
      "R-squared score (training): 0.304\n",
      "R-squared score (test): 0.270\n",
      "Number of non-zero features: 125\n",
      "R-squared score (training): 0.303\n",
      "R-squared score (test): 0.270\n",
      "Number of non-zero features: 125\n"
     ]
    }
   ],
   "source": [
    "from sklearn.linear_model import Ridge\n",
    "\n",
    "alpha_range=np.linspace(0,100,25)\n",
    "for alpha in alpha_range:\n",
    "    linridge = Ridge(alpha=alpha).fit(X_train, y_train)\n",
    "    print('R-squared score (training): {:.3f}'\n",
    "     .format(linridge.score(X_train, y_train)))\n",
    "    print('R-squared score (test): {:.3f}'\n",
    "     .format(linridge.score(X_test, y_test))) \n",
    "    print('Number of non-zero features: {}'\n",
    "     .format(np.sum(abs(linridge.coef_) > 0.15)))"
   ]
  },
  {
   "cell_type": "code",
   "execution_count": 19,
   "metadata": {
    "collapsed": false
   },
   "outputs": [
    {
     "data": {
      "image/png": "[encoded data removed]",
      "text/plain": [
       "<matplotlib.figure.Figure at 0x7f5912116dd8>"
      ]
     },
     "metadata": {},
     "output_type": "display_data"
    }
   ],
   "source": [
    "#Normalizado\n",
    "from sklearn.preprocessing import MinMaxScaler\n",
    "scaler = MinMaxScaler()\n",
    "\n",
    "from sklearn.linear_model import Ridge\n",
    "\n",
    "X_train_scaled = scaler.fit_transform(X_train)\n",
    "X_test_scaled = scaler.transform(X_test)\n",
    "\n",
    "\n",
    "alpha_range=np.linspace(0,40,25)\n",
    "#for alpha in alpha_range:\n",
    "#   linridge = Ridge(alpha=alpha).fit(X_train_scaled, y_train)\n",
    "#   print('R-squared score (training): {:.3f}'\n",
    "#   .format(linridge.score(X_train_scaled, y_train)))\n",
    "#   print('R-squared score (test): {:.3f}'\n",
    "#   .format(linridge.score(X_test_scaled, y_test))) \n",
    "#   print('Number of non-zero features: {}'\n",
    "#   .format(np.sum(abs(linridge.coef_) > 0.15)))\n",
    "\n",
    "scores=[]\n",
    "scores1=[]\n",
    "for alpha in alpha_range:\n",
    "    linridge = Ridge(alpha=alpha).fit(X_train, y_train)\n",
    "    linridge1 = Ridge(alpha=alpha).fit(X_train_scaled, y_train)\n",
    "    linridge.fit(X_train, y_train)\n",
    "    linridge1.fit(X_train_scaled, y_train)\n",
    "    scores.append(linridge.score(X_test, y_test))\n",
    "    scores1.append(linridge1.score(X_test_scaled, y_test)) \n",
    "\n",
    "\n",
    "plt.figure()\n",
    "plt.xlabel('Alpha')\n",
    "plt.ylabel('Accuracy')\n",
    "plt.scatter(alpha_range, scores)\n",
    "plt.scatter(alpha_range, scores1)\n",
    "plt.legend([\"Normalizado\", \"Sin normalizar\"],loc=3)\n",
    "plt.show()"
   ]
  },
  {
   "cell_type": "code",
   "execution_count": 20,
   "metadata": {
    "collapsed": true
   },
   "outputs": [],
   "source": [
    "#Lasso"
   ]
  },
  {
   "cell_type": "code",
   "execution_count": 21,
   "metadata": {
    "collapsed": false
   },
   "outputs": [
    {
     "name": "stdout",
     "output_type": "stream",
     "text": [
      "Training set score: 0.27\n",
      "Test set score: 0.26\n",
      "Number of features used: 48\n"
     ]
    }
   ],
   "source": [
    "from sklearn.linear_model import Lasso\n",
    "\n",
    "lasso = Lasso().fit(X_train, y_train)\n",
    "print(\"Training set score: {:.2f}\".format(lasso.score(X_train, y_train)))\n",
    "print(\"Test set score: {:.2f}\".format(lasso.score(X_test, y_test)))\n",
    "print(\"Number of features used: {}\".format(np.sum(lasso.coef_ != 0)))"
   ]
  },
  {
   "cell_type": "code",
   "execution_count": 22,
   "metadata": {
    "collapsed": false
   },
   "outputs": [
    {
     "name": "stdout",
     "output_type": "stream",
     "text": [
      "Training set score: 0.22\n",
      "Test set score: 0.24\n",
      "Number of features used: 29\n"
     ]
    }
   ],
   "source": [
    "lasso001 = Lasso(alpha=2, max_iter=10000).fit(X_train, y_train)\n",
    "print(\"Training set score: {:.2f}\".format(lasso001.score(X_train, y_train)))\n",
    "print(\"Test set score: {:.2f}\".format(lasso001.score(X_test, y_test)))\n",
    "print(\"Number of features used: {}\".format(np.sum(lasso001.coef_ != 0)))"
   ]
  },
  {
   "cell_type": "code",
   "execution_count": 23,
   "metadata": {
    "collapsed": true
   },
   "outputs": [],
   "source": [
    "from sklearn.preprocessing import PolynomialFeatures\n",
    "poly = PolynomialFeatures(degree=2)"
   ]
  },
  {
   "cell_type": "code",
   "execution_count": 24,
   "metadata": {
    "collapsed": false
   },
   "outputs": [],
   "source": [
    "poly.fit(X_train, y_train)\n",
    "X_train_poly = poly.transform(X_train_scaled)\n",
    "X_test_poly = poly.transform(X_test_scaled)"
   ]
  },
  {
   "cell_type": "code",
   "execution_count": 25,
   "metadata": {
    "collapsed": false
   },
   "outputs": [
    {
     "name": "stdout",
     "output_type": "stream",
     "text": [
      "Score without interactions: 0.272\n",
      "Score with interactions: 0.306\n"
     ]
    }
   ],
   "source": [
    "ridge = Ridge().fit(X_train_scaled, y_train)\n",
    "print(\"Score without interactions: {:.3f}\".format(\n",
    " ridge.score(X_test_scaled, y_test)))\n",
    "ridge = Ridge().fit(X_train_poly, y_train)\n",
    "print(\"Score with interactions: {:.3f}\".format(\n",
    " ridge.score(X_test_poly, y_test)))"
   ]
  },
  {
   "cell_type": "code",
   "execution_count": 26,
   "metadata": {
    "collapsed": false
   },
   "outputs": [
    {
     "name": "stdout",
     "output_type": "stream",
     "text": [
      "Accuracy of Decision Tree classifier on training set: 0.41\n",
      "Accuracy of Decision Tree classifier on test set: -0.05\n"
     ]
    },
    {
     "data": {
      "image/png": "[encoded data removed]",
      "text/plain": [
       "<matplotlib.figure.Figure at 0x7f5912077a90>"
      ]
     },
     "metadata": {},
     "output_type": "display_data"
    }
   ],
   "source": [
    "from sklearn.tree import DecisionTreeRegressor\n",
    "clf = DecisionTreeRegressor(max_depth=5,random_state=0).fit(X_train, y_train)\n",
    "\n",
    "print('Accuracy of Decision Tree classifier on training set: {:.2f}'\n",
    "     .format(clf.score(X_train, y_train)))\n",
    "print('Accuracy of Decision Tree classifier on test set: {:.2f}'\n",
    "     .format(clf.score(X_test, y_test)))\n",
    "\n",
    "k_range = range(1,40)\n",
    "scores = []\n",
    "scores1=[]\n",
    "\n",
    "for k in k_range:\n",
    "    reg = DecisionTreeRegressor(max_depth=k,random_state=k)\n",
    "    reg.fit(X_train, y_train)\n",
    "    scores.append(reg.score(X_test, y_test))\n",
    "    scores1.append(reg.score(X_train, y_train))\n",
    "\n",
    "\n",
    "plt.figure()\n",
    "plt.xlabel('k')\n",
    "plt.ylabel('$R^2$')\n",
    "plt.scatter(k_range, scores)\n",
    "plt.scatter(k_range, scores1)\n",
    "plt.legend([\"test accuracy\", \"train accuracy\"])\n",
    "plt.show()"
   ]
  },
  {
   "cell_type": "code",
   "execution_count": 27,
   "metadata": {
    "collapsed": false
   },
   "outputs": [
    {
     "name": "stdout",
     "output_type": "stream",
     "text": [
      "Accuracy on training set: 0.831\n",
      "Accuracy on test set: 0.298\n"
     ]
    },
    {
     "data": {
      "image/png": "[encoded data removed]",
      "text/plain": [
       "<matplotlib.figure.Figure at 0x7f5911fea278>"
      ]
     },
     "metadata": {},
     "output_type": "display_data"
    }
   ],
   "source": [
    "from sklearn.ensemble import RandomForestRegressor\n",
    "forest = RandomForestRegressor(n_estimators=8, random_state=40)\n",
    "forest.fit(X_train, y_train)\n",
    "\n",
    "print(\"Accuracy on training set: {:.3f}\".format(forest.score(X_train, y_train)))\n",
    "print(\"Accuracy on test set: {:.3f}\".format(forest.score(X_test, y_test)))\n",
    "k_range = range(2,20)\n",
    "scores = []\n",
    "scores1=[]\n",
    "\n",
    "for k in k_range:\n",
    "    reg =  RandomForestRegressor(n_estimators=k, random_state=0)\n",
    "    reg.fit(X_train, y_train)\n",
    "    scores.append(reg.score(X_test, y_test))\n",
    "    scores1.append(reg.score(X_train, y_train))\n",
    "\n",
    "\n",
    "plt.figure()\n",
    "plt.xlabel('nº árboles')\n",
    "plt.ylabel('Accuracy')\n",
    "plt.scatter(k_range, scores)\n",
    "plt.scatter(k_range, scores1)\n",
    "plt.legend([\"test accuracy\", \"train accuracy\"])\n",
    "plt.show()"
   ]
  },
  {
   "cell_type": "code",
   "execution_count": null,
   "metadata": {
    "collapsed": true
   },
   "outputs": [],
   "source": []
  }
 ],
 "metadata": {
  "kernelspec": {
   "display_name": "Python 3",
   "language": "python",
   "name": "python3"
  },
  "language_info": {
   "codemirror_mode": {
    "name": "ipython",
    "version": 3
   },
   "file_extension": ".py",
   "mimetype": "text/x-python",
   "name": "python",
   "nbconvert_exporter": "python",
   "pygments_lexer": "ipython3",
   "version": "3.5.2"
  }
 },
 "nbformat": 4,
 "nbformat_minor": 1
}
